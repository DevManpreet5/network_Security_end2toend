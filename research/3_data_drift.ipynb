{
 "cells": [
  {
   "cell_type": "code",
   "execution_count": null,
   "metadata": {},
   "outputs": [],
   "source": [
    "import pandas as pd\n",
    "import numpy as np\n",
    "from sklearn.ensemble import RandomForestClassifier\n",
    "from sklearn.metrics import accuracy_score\n",
    "from evidently.metric_preset import DataDriftPreset, TargetDriftPreset, RegressionPreset\n",
    "from evidently import ColumnMapping\n",
    "from evidently.report import Report\n",
    "\n",
    "reference = pd.read_csv('artifact/data/transformed/test_transformed.csv')\n",
    "current = pd.read_csv('artifact/data/transformed/test_transformed.csv')\n",
    "\n",
    "target = \"Label\"\n",
    "\n",
    "numerical_features = [\n",
    "    \"Max Packet Length\", \"Packet Length Variance\", \"Packet Length Std\", \"Destination Port\", \n",
    "    \"Avg Bwd Segment Size\", \"Total Length of Fwd Packets\", \"Average Packet Size\", \n",
    "    \"Bwd Packet Length Max\", \"Subflow Fwd Bytes\", \"Total Length of Bwd Packets\", \n",
    "    \"Fwd Packet Length Max\", \"Subflow Bwd Bytes\", \"Bwd Packet Length Std\", \n",
    "    \"Init_Win_bytes_forward\", \"Packet Length Mean\", \"Fwd Packet Length Mean\", \n",
    "    \"Bwd Packet Length Mean\", \"Init_Win_bytes_backward\", \"Total Fwd Packets\", \n",
    "    \"Avg Fwd Segment Size\", \"Fwd Header Length.1\", \"Fwd IAT Max\", \"Bwd Header Length\", \n",
    "    \"Fwd IAT Std\", \"Bwd Packets/s\", \"Fwd Header Length\", \"Flow Bytes/s\", \n",
    "    \"Idle Mean\", \"Subflow Bwd Packets\", \"Total Backward Packets\", \"act_data_pkt_fwd\", \n",
    "    \"ACK Flag Count\", \"Subflow Fwd Packets\"\n",
    "]\n",
    "\n",
    "classifier = RandomForestClassifier(random_state=0, n_estimators=50)\n",
    "classifier.fit(reference[numerical_features], reference[target])\n",
    "\n",
    "reference[\"prediction\"] = classifier.predict(reference[numerical_features])\n",
    "current[\"prediction\"] = classifier.predict(current[numerical_features])\n",
    "\n",
    "column_mapping = ColumnMapping()\n",
    "column_mapping.target = target\n",
    "column_mapping.prediction = \"prediction\"\n",
    "column_mapping.numerical_features = numerical_features\n",
    "\n",
    "data_drift = Report(metrics=[DataDriftPreset()])\n",
    "data_drift.run(current_data=current,\n",
    "               reference_data=reference,\n",
    "               column_mapping=None)\n",
    "\n",
    "data_drift.show()\n"
   ]
  }
 ],
 "metadata": {
  "kernelspec": {
   "display_name": "networkenv",
   "language": "python",
   "name": "python3"
  },
  "language_info": {
   "codemirror_mode": {
    "name": "ipython",
    "version": 3
   },
   "file_extension": ".py",
   "mimetype": "text/x-python",
   "name": "python",
   "nbconvert_exporter": "python",
   "pygments_lexer": "ipython3",
   "version": "3.13.1"
  }
 },
 "nbformat": 4,
 "nbformat_minor": 2
}

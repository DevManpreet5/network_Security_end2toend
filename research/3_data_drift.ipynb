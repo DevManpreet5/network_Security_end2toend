{
 "cells": [
  {
   "cell_type": "code",
   "execution_count": 27,
   "metadata": {},
   "outputs": [
    {
     "ename": "AttributeError",
     "evalue": "'NotebookProfileVisualizer' object has no attribute 'show'",
     "output_type": "error",
     "traceback": [
      "\u001b[0;31m---------------------------------------------------------------------------\u001b[0m",
      "\u001b[0;31mAttributeError\u001b[0m                            Traceback (most recent call last)",
      "Cell \u001b[0;32mIn[27], line 24\u001b[0m\n\u001b[1;32m     21\u001b[0m visualization\u001b[38;5;241m.\u001b[39mset_profiles(target_profile_view\u001b[38;5;241m=\u001b[39mcurrent_profile_view, reference_profile_view\u001b[38;5;241m=\u001b[39mreference_profile_view)\n\u001b[1;32m     23\u001b[0m \u001b[38;5;66;03m# Show the visualization\u001b[39;00m\n\u001b[0;32m---> 24\u001b[0m \u001b[43mvisualization\u001b[49m\u001b[38;5;241;43m.\u001b[39;49m\u001b[43mshow\u001b[49m()\n",
      "\u001b[0;31mAttributeError\u001b[0m: 'NotebookProfileVisualizer' object has no attribute 'show'"
     ]
    }
   ],
   "source": [
    "import pandas as pd\n",
    "import whylogs\n",
    "from whylogs.viz import NotebookProfileVisualizer\n",
    "reference = pd.read_csv(r'/Users/s/Desktop/mlops/network_Security_end2end/artifact/data/transformed/train_transformed.csv')\n",
    "current = pd.read_csv(r'/Users/s/Desktop/mlops/network_Security_end2end/artifact/data/transformed/test_transformed.csv')\n",
    "reference_profile = whylogs.log(reference)\n",
    "current_profile = whylogs.log(current)\n",
    "reference_profile_view = reference_profile.view()\n",
    "current_profile_view = current_profile.view()\n",
    "visualization = NotebookProfileVisualizer()\n",
    "visualization.set_profiles(target_profile_view=current_profile_view, reference_profile_view=reference_profile_view)\n",
    "visualization.show()\n"
   ]
  }
 ],
 "metadata": {
  "kernelspec": {
   "display_name": "networkenv",
   "language": "python",
   "name": "python3"
  },
  "language_info": {
   "codemirror_mode": {
    "name": "ipython",
    "version": 3
   },
   "file_extension": ".py",
   "mimetype": "text/x-python",
   "name": "python",
   "nbconvert_exporter": "python",
   "pygments_lexer": "ipython3",
   "version": "3.13.1"
  }
 },
 "nbformat": 4,
 "nbformat_minor": 2
}

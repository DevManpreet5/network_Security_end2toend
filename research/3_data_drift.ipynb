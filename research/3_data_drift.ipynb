{
 "cells": [
  {
   "cell_type": "code",
   "execution_count": 28,
   "metadata": {},
   "outputs": [
    {
     "data": {
      "text/plain": [
       "<whylogs.viz.notebook_profile_viz.NotebookProfileVisualizer at 0x174914050>"
      ]
     },
     "execution_count": 28,
     "metadata": {},
     "output_type": "execute_result"
    }
   ],
   "source": [
    "import pandas as pd\n",
    "import whylogs\n",
    "from whylogs.viz import NotebookProfileVisualizer\n",
    "reference = pd.read_csv(r'/Users/s/Desktop/mlops/network_Security_end2end/artifact/data/transformed/train_transformed.csv')\n",
    "current = pd.read_csv(r'/Users/s/Desktop/mlops/network_Security_end2end/artifact/data/transformed/test_transformed.csv')\n",
    "reference_profile = whylogs.log(reference)\n",
    "current_profile = whylogs.log(current)\n",
    "reference_profile_view = reference_profile.view()\n",
    "current_profile_view = current_profile.view()\n",
    "visualization = NotebookProfileVisualizer()\n",
    "visualization.set_profiles(target_profile_view=current_profile_view, reference_profile_view=reference_profile_view)\n",
    "visualization\n"
   ]
  },
  {
   "cell_type": "code",
   "execution_count": 35,
   "metadata": {},
   "outputs": [
    {
     "name": "stdout",
     "output_type": "stream",
     "text": [
      "Requirement already satisfied: whylogs[viz] in /Users/s/Desktop/mlops/network_Security_end2end/networkenv/lib/python3.13/site-packages (1.6.4)\n",
      "Collecting Pillow<11,>=10.1.0 (from whylogs[viz])\n",
      "  Downloading pillow-10.4.0-cp313-cp313-macosx_11_0_arm64.whl.metadata (9.2 kB)\n",
      "Requirement already satisfied: backoff<3.0.0,>=2.2.1 in /Users/s/Desktop/mlops/network_Security_end2end/networkenv/lib/python3.13/site-packages (from whylogs[viz]) (2.2.1)\n",
      "Requirement already satisfied: ipython in /Users/s/Desktop/mlops/network_Security_end2end/networkenv/lib/python3.13/site-packages (from whylogs[viz]) (8.31.0)\n",
      "Requirement already satisfied: numpy>=1.23.2 in /Users/s/Desktop/mlops/network_Security_end2end/networkenv/lib/python3.13/site-packages (from whylogs[viz]) (2.0.2)\n",
      "Requirement already satisfied: platformdirs<4.0.0,>=3.5.0 in /Users/s/Desktop/mlops/network_Security_end2end/networkenv/lib/python3.13/site-packages (from whylogs[viz]) (3.11.0)\n",
      "Requirement already satisfied: protobuf>=3.19.4 in /Users/s/Desktop/mlops/network_Security_end2end/networkenv/lib/python3.13/site-packages (from whylogs[viz]) (5.29.3)\n",
      "Collecting pybars3<0.10,>=0.9 (from whylogs[viz])\n",
      "  Downloading pybars3-0.9.7.tar.gz (29 kB)\n",
      "  Installing build dependencies ... \u001b[?25ldone\n",
      "\u001b[?25h  Getting requirements to build wheel ... \u001b[?25ldone\n",
      "\u001b[?25h  Preparing metadata (pyproject.toml) ... \u001b[?25ldone\n",
      "\u001b[?25hRequirement already satisfied: requests<3.0,>=2.27 in /Users/s/Desktop/mlops/network_Security_end2end/networkenv/lib/python3.13/site-packages (from whylogs[viz]) (2.32.3)\n",
      "Requirement already satisfied: scipy>=1.9.2 in /Users/s/Desktop/mlops/network_Security_end2end/networkenv/lib/python3.13/site-packages (from whylogs[viz]) (1.15.1)\n",
      "Requirement already satisfied: typing-extensions>=3.10 in /Users/s/Desktop/mlops/network_Security_end2end/networkenv/lib/python3.13/site-packages (from whylogs[viz]) (4.12.2)\n",
      "Requirement already satisfied: whylabs-client<0.7.0,>=0.6.15 in /Users/s/Desktop/mlops/network_Security_end2end/networkenv/lib/python3.13/site-packages (from whylogs[viz]) (0.6.16)\n",
      "Requirement already satisfied: whylogs-sketching>=3.4.1.dev3 in /Users/s/Desktop/mlops/network_Security_end2end/networkenv/lib/python3.13/site-packages (from whylogs[viz]) (3.4.1.dev3)\n",
      "Collecting PyMeta3>=0.5.1 (from pybars3<0.10,>=0.9->whylogs[viz])\n",
      "  Downloading PyMeta3-0.5.1.tar.gz (29 kB)\n",
      "  Installing build dependencies ... \u001b[?25ldone\n",
      "\u001b[?25h  Getting requirements to build wheel ... \u001b[?25ldone\n",
      "\u001b[?25h  Preparing metadata (pyproject.toml) ... \u001b[?25ldone\n",
      "\u001b[?25hRequirement already satisfied: charset-normalizer<4,>=2 in /Users/s/Desktop/mlops/network_Security_end2end/networkenv/lib/python3.13/site-packages (from requests<3.0,>=2.27->whylogs[viz]) (3.4.1)\n",
      "Requirement already satisfied: idna<4,>=2.5 in /Users/s/Desktop/mlops/network_Security_end2end/networkenv/lib/python3.13/site-packages (from requests<3.0,>=2.27->whylogs[viz]) (3.10)\n",
      "Requirement already satisfied: urllib3<3,>=1.21.1 in /Users/s/Desktop/mlops/network_Security_end2end/networkenv/lib/python3.13/site-packages (from requests<3.0,>=2.27->whylogs[viz]) (2.3.0)\n",
      "Requirement already satisfied: certifi>=2017.4.17 in /Users/s/Desktop/mlops/network_Security_end2end/networkenv/lib/python3.13/site-packages (from requests<3.0,>=2.27->whylogs[viz]) (2024.12.14)\n",
      "Requirement already satisfied: python-dateutil in /Users/s/Desktop/mlops/network_Security_end2end/networkenv/lib/python3.13/site-packages (from whylabs-client<0.7.0,>=0.6.15->whylogs[viz]) (2.9.0.post0)\n",
      "Requirement already satisfied: decorator in /Users/s/Desktop/mlops/network_Security_end2end/networkenv/lib/python3.13/site-packages (from ipython->whylogs[viz]) (5.1.1)\n",
      "Requirement already satisfied: jedi>=0.16 in /Users/s/Desktop/mlops/network_Security_end2end/networkenv/lib/python3.13/site-packages (from ipython->whylogs[viz]) (0.19.2)\n",
      "Requirement already satisfied: matplotlib-inline in /Users/s/Desktop/mlops/network_Security_end2end/networkenv/lib/python3.13/site-packages (from ipython->whylogs[viz]) (0.1.7)\n",
      "Requirement already satisfied: pexpect>4.3 in /Users/s/Desktop/mlops/network_Security_end2end/networkenv/lib/python3.13/site-packages (from ipython->whylogs[viz]) (4.9.0)\n",
      "Requirement already satisfied: prompt_toolkit<3.1.0,>=3.0.41 in /Users/s/Desktop/mlops/network_Security_end2end/networkenv/lib/python3.13/site-packages (from ipython->whylogs[viz]) (3.0.50)\n",
      "Requirement already satisfied: pygments>=2.4.0 in /Users/s/Desktop/mlops/network_Security_end2end/networkenv/lib/python3.13/site-packages (from ipython->whylogs[viz]) (2.19.1)\n",
      "Requirement already satisfied: stack_data in /Users/s/Desktop/mlops/network_Security_end2end/networkenv/lib/python3.13/site-packages (from ipython->whylogs[viz]) (0.6.3)\n",
      "Requirement already satisfied: traitlets>=5.13.0 in /Users/s/Desktop/mlops/network_Security_end2end/networkenv/lib/python3.13/site-packages (from ipython->whylogs[viz]) (5.14.3)\n",
      "Requirement already satisfied: parso<0.9.0,>=0.8.4 in /Users/s/Desktop/mlops/network_Security_end2end/networkenv/lib/python3.13/site-packages (from jedi>=0.16->ipython->whylogs[viz]) (0.8.4)\n",
      "Requirement already satisfied: ptyprocess>=0.5 in /Users/s/Desktop/mlops/network_Security_end2end/networkenv/lib/python3.13/site-packages (from pexpect>4.3->ipython->whylogs[viz]) (0.7.0)\n",
      "Requirement already satisfied: wcwidth in /Users/s/Desktop/mlops/network_Security_end2end/networkenv/lib/python3.13/site-packages (from prompt_toolkit<3.1.0,>=3.0.41->ipython->whylogs[viz]) (0.2.13)\n",
      "Requirement already satisfied: six>=1.5 in /Users/s/Desktop/mlops/network_Security_end2end/networkenv/lib/python3.13/site-packages (from python-dateutil->whylabs-client<0.7.0,>=0.6.15->whylogs[viz]) (1.17.0)\n",
      "Requirement already satisfied: executing>=1.2.0 in /Users/s/Desktop/mlops/network_Security_end2end/networkenv/lib/python3.13/site-packages (from stack_data->ipython->whylogs[viz]) (2.2.0)\n",
      "Requirement already satisfied: asttokens>=2.1.0 in /Users/s/Desktop/mlops/network_Security_end2end/networkenv/lib/python3.13/site-packages (from stack_data->ipython->whylogs[viz]) (3.0.0)\n",
      "Requirement already satisfied: pure-eval in /Users/s/Desktop/mlops/network_Security_end2end/networkenv/lib/python3.13/site-packages (from stack_data->ipython->whylogs[viz]) (0.2.3)\n",
      "Downloading pillow-10.4.0-cp313-cp313-macosx_11_0_arm64.whl (3.4 MB)\n",
      "\u001b[2K   \u001b[90m━━━━━━━━━━━━━━━━━━━━━━━━━━━━━━━━━━━━━━━━\u001b[0m \u001b[32m3.4/3.4 MB\u001b[0m \u001b[31m13.3 MB/s\u001b[0m eta \u001b[36m0:00:00\u001b[0ma \u001b[36m0:00:01\u001b[0m\n",
      "\u001b[?25hBuilding wheels for collected packages: pybars3, PyMeta3\n",
      "  Building wheel for pybars3 (pyproject.toml) ... \u001b[?25ldone\n",
      "\u001b[?25h  Created wheel for pybars3: filename=pybars3-0.9.7-py3-none-any.whl size=14131 sha256=fad6915f1f7112397bb34665124ae877073cf096ff1784536069eac2195e7dc0\n",
      "  Stored in directory: /Users/s/Library/Caches/pip/wheels/5b/79/29/fb952aaf1fe2d19c7bfbe7c7ba96bf135caa44cb6f0fe372f6\n",
      "  Building wheel for PyMeta3 (pyproject.toml) ... \u001b[?25ldone\n",
      "\u001b[?25h  Created wheel for PyMeta3: filename=PyMeta3-0.5.1-py3-none-any.whl size=16490 sha256=c1717f809db7bf02d609c77b9f249442326ed19d6d420bd53c8881da6b20af4d\n",
      "  Stored in directory: /Users/s/Library/Caches/pip/wheels/8f/66/2c/fbe2a7aae963eb2d885051fe159fa8bf41cd198b14b5fbad59\n",
      "Successfully built pybars3 PyMeta3\n",
      "Installing collected packages: PyMeta3, pybars3, Pillow\n",
      "  Attempting uninstall: Pillow\n",
      "    Found existing installation: pillow 11.1.0\n",
      "    Uninstalling pillow-11.1.0:\n",
      "      Successfully uninstalled pillow-11.1.0\n",
      "Successfully installed Pillow-10.4.0 PyMeta3-0.5.1 pybars3-0.9.7\n",
      "Note: you may need to restart the kernel to use updated packages.\n"
     ]
    }
   ],
   "source": [
    "import os\n",
    "%pip install 'whylogs[viz]'"
   ]
  },
  {
   "cell_type": "code",
   "execution_count": 36,
   "metadata": {},
   "outputs": [],
   "source": [
    "os.getcwd()\n",
    "visualization.write(\n",
    "    rendered_html=visualization.profile_summary(),\n",
    "    html_file_name=os.getcwd() + \"/example\",\n",
    ")"
   ]
  }
 ],
 "metadata": {
  "kernelspec": {
   "display_name": "networkenv",
   "language": "python",
   "name": "python3"
  },
  "language_info": {
   "codemirror_mode": {
    "name": "ipython",
    "version": 3
   },
   "file_extension": ".py",
   "mimetype": "text/x-python",
   "name": "python",
   "nbconvert_exporter": "python",
   "pygments_lexer": "ipython3",
   "version": "3.13.1"
  }
 },
 "nbformat": 4,
 "nbformat_minor": 2
}

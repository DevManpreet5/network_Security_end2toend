{
 "cells": [
  {
   "cell_type": "code",
   "execution_count": 27,
   "metadata": {},
   "outputs": [],
   "source": [
    "import pandas as pd\n",
    "import whylogs\n",
    "from whylogs.viz import NotebookProfileVisualizer\n",
    "reference = pd.read_csv(r'/Users/s/Desktop/mlops/network_Security_end2end/artifact/data/transformed/train_transformed.csv')\n",
    "current = pd.read_csv(r'/Users/s/Desktop/mlops/network_Security_end2end/artifact/data/transformed/test_transformed.csv')\n",
    "reference_profile = whylogs.log(reference)\n",
    "current_profile = whylogs.log(current)\n",
    "reference_profile_view = reference_profile.view()\n",
    "current_profile_view = current_profile.view()\n",
    "visualization = NotebookProfileVisualizer()\n",
    "visualization.set_profiles(target_profile_view=current_profile_view, reference_profile_view=reference_profile_view)\n",
    "visualization.show()\n"
   ]
  }
 ],
 "metadata": {
  "kernelspec": {
   "display_name": "networkenv",
   "language": "python",
   "name": "python3"
  },
  "language_info": {
   "codemirror_mode": {
    "name": "ipython",
    "version": 3
   },
   "file_extension": ".py",
   "mimetype": "text/x-python",
   "name": "python",
   "nbconvert_exporter": "python",
   "pygments_lexer": "ipython3",
   "version": "3.13.1"
  }
 },
 "nbformat": 4,
 "nbformat_minor": 2
}

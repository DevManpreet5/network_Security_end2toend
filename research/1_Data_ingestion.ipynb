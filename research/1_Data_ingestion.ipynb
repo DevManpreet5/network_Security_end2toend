{
 "cells": [
  {
   "cell_type": "code",
   "execution_count": null,
   "metadata": {},
   "outputs": [],
   "source": [
    "import pandas as pd\n",
    "import numpy as np"
   ]
  },
  {
   "cell_type": "markdown",
   "metadata": {},
   "source": [
    "# method 1"
   ]
  },
  {
   "cell_type": "code",
   "execution_count": null,
   "metadata": {},
   "outputs": [],
   "source": [
    "import kagglehub\n",
    "\n",
    "path1 = kagglehub.dataset_download(\"chethuhn/network-intrusion-dataset\")\n",
    "\n",
    "print(\"Path to dataset files:\", path1)"
   ]
  },
  {
   "cell_type": "markdown",
   "metadata": {},
   "source": [
    "# method 2"
   ]
  },
  {
   "cell_type": "code",
   "execution_count": null,
   "metadata": {},
   "outputs": [],
   "source": [
    "import kagglehub\n",
    "import os\n",
    "import shutil\n",
    "\n",
    "dataset = \"chethuhn/network-intrusion-dataset\"  \n",
    "download_dir = \"data/raw\"  \n",
    "extract_dir = \"data/processed\"  \n",
    "\n",
    "\n",
    "os.makedirs(download_dir, exist_ok=True)\n",
    "os.makedirs(extract_dir, exist_ok=True)\n",
    "\n",
    "\n",
    "\n",
    "print(\"Downloading dataset...\")\n",
    "downloaded_path = kagglehub.dataset_download(dataset) \n",
    "\n",
    "\n",
    "print(f\"Downloaded content: {downloaded_path}\")\n",
    "for root, dirs, files in os.walk(downloaded_path):\n",
    "    for file in files:\n",
    "        print(f\"Found file: {file}\")\n",
    "\n",
    "\n",
    "for root, dirs, files in os.walk(downloaded_path):\n",
    "    for file in files:\n",
    "        if file.endswith(\".csv\"):  \n",
    "            src = os.path.join(root, file)\n",
    "            dst = os.path.join(download_dir, file)\n",
    "            shutil.move(src, dst)\n",
    "            print(f\"Moved {file} to {download_dir}\")\n",
    "\n",
    "\n",
    "for file in os.listdir(download_dir):\n",
    "    if file.endswith(\".csv\"):\n",
    "        shutil.move(os.path.join(download_dir, file), os.path.join(extract_dir, file))\n",
    "\n",
    "print(\"Dataset downloaded and moved successfully!\")\n"
   ]
  },
  {
   "cell_type": "markdown",
   "metadata": {},
   "source": [
    "# method 3 (gonna use this method)"
   ]
  },
  {
   "cell_type": "code",
   "execution_count": null,
   "metadata": {},
   "outputs": [],
   "source": [
    "!curl -L -o ./network-intrusion-dataset.zip https://www.kaggle.com/api/v1/datasets/download/chethuhn/network-intrusion-dataset\n"
   ]
  },
  {
   "cell_type": "code",
   "execution_count": null,
   "metadata": {},
   "outputs": [],
   "source": [
    "!unzip ./network-intrusion-dataset.zip -d ./"
   ]
  },
  {
   "cell_type": "code",
   "execution_count": 7,
   "metadata": {},
   "outputs": [
    {
     "name": "stdout",
     "output_type": "stream",
     "text": [
      "  % Total    % Received % Xferd  Average Speed   Time    Time     Time  Current\n",
      "                                 Dload  Upload   Total   Spent    Left  Speed\n",
      "  0     0    0     0    0     0      0      0 --:--:-- --:--:-- --:--:--     0\n",
      "100  229M  100  229M    0     0  5029k      0  0:00:46  0:00:46 --:--:-- 5719k5k      0  0:01:23  0:00:12  0:01:11 4003k      0  0:01:19  0:00:16  0:01:03 3452k     0  4361k      0  0:00:53  0:00:29  0:00:24 6441k  0  4590k      0  0:00:51  0:00:32  0:00:19 6591k 4877k      0  0:00:48  0:00:39  0:00:09 6066k0  0:00:48  0:00:40  0:00:08 5707k   0  0:00:46  0:00:46 --:--:-- 5891k\n",
      "Archive:  ./data/network-intrusion-dataset.zip\n",
      "  inflating: ./data/Friday-WorkingHours-Afternoon-DDos.pcap_ISCX.csv  \n",
      "  inflating: ./data/Friday-WorkingHours-Afternoon-PortScan.pcap_ISCX.csv  \n",
      "  inflating: ./data/Friday-WorkingHours-Morning.pcap_ISCX.csv  \n",
      "  inflating: ./data/Monday-WorkingHours.pcap_ISCX.csv  \n",
      "  inflating: ./data/Thursday-WorkingHours-Afternoon-Infilteration.pcap_ISCX.csv  \n",
      "  inflating: ./data/Thursday-WorkingHours-Morning-WebAttacks.pcap_ISCX.csv  \n",
      "  inflating: ./data/Tuesday-WorkingHours.pcap_ISCX.csv  \n",
      "  inflating: ./data/Wednesday-workingHours.pcap_ISCX.csv  \n"
     ]
    }
   ],
   "source": [
    "import os\n",
    "download_path = './data/network-intrusion-dataset.zip'\n",
    "extract_path = './data/'\n",
    "os.makedirs('./data', exist_ok=True)\n",
    "!curl -L -o {download_path} https://www.kaggle.com/api/v1/datasets/download/chethuhn/network-intrusion-dataset\n",
    "!unzip {download_path} -d {extract_path}\n"
   ]
  },
  {
   "cell_type": "code",
   "execution_count": null,
   "metadata": {},
   "outputs": [],
   "source": [
    "import pandas as pd\n",
    "import os\n",
    "\n",
    "folder_path = \"/Users/s/Desktop/mlops/network_Security_end2end/data/raw\"\n",
    "csv_files = [f for f in os.listdir(folder_path) if f.endswith('.csv')]\n",
    "\n",
    "for file in csv_files:\n",
    "    file_path = os.path.join(folder_path, file)\n",
    "    \n",
    "    \n",
    "    df = pd.read_csv(file_path)\n",
    "        \n",
    "\n",
    "    df.columns = df.columns.str.strip()\n",
    "        \n",
    "\n",
    "    if 'Label' in df.columns:\n",
    "        print(f\"File: {file}\")\n",
    "        print(df['Label'].value_counts())\n",
    "        \n",
    " "
   ]
  }
 ],
 "metadata": {
  "kernelspec": {
   "display_name": "networkenv",
   "language": "python",
   "name": "python3"
  },
  "language_info": {
   "codemirror_mode": {
    "name": "ipython",
    "version": 3
   },
   "file_extension": ".py",
   "mimetype": "text/x-python",
   "name": "python",
   "nbconvert_exporter": "python",
   "pygments_lexer": "ipython3",
   "version": "3.13.1"
  }
 },
 "nbformat": 4,
 "nbformat_minor": 2
}
